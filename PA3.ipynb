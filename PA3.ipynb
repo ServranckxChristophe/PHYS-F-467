{
 "cells": [
  {
   "cell_type": "markdown",
   "metadata": {
    "slideshow": {
     "slide_type": "slide"
    }
   },
   "source": [
    "<img src=\"http://www.ulb.ac.be/dre/com/docs/logo3lp.jpg\" alt=\"ULB logo\" width=\"20%\" align=\"right\" border=\"4\"><br><br><br><br>\n",
    "\n",
    "\n",
    "\n",
    "# Notes: Lecture 3\n",
    "# <small>Cosmic Rays</small>\n",
    "\n",
    "<p class=\"version\">Université Libre de Bruxelles,\n",
    "\n",
    "Juan A. Aguilar\n",
    "\n",
    "<a href=\"mailto:aguilar@icecube.wisc.edu\">aguilar@icecube.wisc.edu</a>\n",
    "</p>"
   ]
  },
  {
   "cell_type": "markdown",
   "metadata": {
    "slideshow": {
     "slide_type": "slide"
    }
   },
   "source": [
    "## Some (more) concepts: \n",
    "### Larmor Radius and Rigidity\n",
    "\n",
    "Larmor radius, or gyroradius, $r_L$, is the radius of the orbit of a charged particle moving in a uniform, perpendicular magnetic field, obtained by simply equating the Lorentz force with the centripetal force/\n",
    "\n",
    "It is defined as:\n",
    "$$q v B = \\frac{mv^2}{r_L} \\rightarrow r_L = \\frac{p}{ZeB}$$\n",
    "\n",
    "where $p$ has replaced $mv$ in the classical limit.  However, this also holds for the\n",
    "relativistic generalization by considering $p$ to be the relativistic 3-momentum.  There\n",
    "are several adaptations of this formula, tuned to units natural to various scenarios. One such is\n",
    "\n",
    "$$r_L = 33.36 \\;{\\rm km} \\left(\\frac{p}{\\;\\rm{GeV/c}}\\right)\\left(\\frac{1}{Z}\\right)\\left(\\frac{\\rm{ G}}{B}\\right)$$\n",
    "\n",
    "In cosmic ray physics, one often sees references in the literature to the\n",
    "**rigidity** of a particle, defined as:\n",
    "\n",
    "\n",
    "$$\n",
    "R \\equiv r_L B c = \\frac{pc}{Ze}\n",
    "$$\n",
    "\n",
    "Which has units Volts!  A 10 GeV proton has a rigidity of 10 GV, etc ...\n"
   ]
  },
  {
   "cell_type": "markdown",
   "metadata": {
    "slideshow": {
     "slide_type": "skip"
    }
   },
   "source": [
    "### Superposition model\n",
    "\n",
    "In the superposition model, a nucleus with mass $A$ and energy $E(A)$ is considered\n",
    "as $A$ independent nucleons with energy $E_0$. In a spallation process the energy per nucleon is approximately cosnserved therefore:\n",
    "\n",
    "\n",
    "$$A + p \\rightarrow A_1 + A_2$$\n",
    "\n",
    "\n",
    "$$\\begin{align*}\n",
    "E(A) &= A E_0,\\\\ \n",
    "E(A_1) &= A_1 E_0,\\\\\n",
    "E(A_2) &= A_2 E_0\n",
    "\\end{align*}$$\n",
    "\n",
    "### Cross sections, lifetime, interaction lengths\n",
    "\n",
    "The cross-section of a reaction is a very important parameter. It can be considered as the effective area for a collision between a target and a projectile. The cross-section of an interaction depends on interaction force, the energy of the particle, etc...\n",
    "\n",
    "Cross-section is typically measured in surface, cm$^2$ or \"barns\":\n",
    "\n",
    "$$ 1 {\\rm barn} = 10^{-24} {\\rm cm}^2$$\n",
    "\n",
    "The unit barn comes from the expression \"big as a barn\" as in the past physisits saw with surprise that interactions were more frequent than expected, and they thought the nucleus was in fact bigger than they thought... big as a barn.\n",
    "\n",
    "If a flux of *projectile* particles are crossing a volume of *target* particles with cross section $\\sigma_N$ then the disapperance of flux  will be proportional to the initial number, the length travelled and number of target particles:\n",
    "\n",
    "$$ {\\rm d} I = -I n \\sigma_N {\\rm d} x $$\n",
    "\n",
    "where $n$ is the number density, ie, the number of particles per volume unit:\n",
    "\n",
    "$$ n = \\frac{N}{V} $$\n",
    "\n",
    "note that the number density is related with the mass density as:\n",
    "\n",
    "$$n = \\frac{N_A}{M} \\rho_m = \\frac{\\rho_m}{m_N}$$\n",
    "\n",
    "\n",
    "where $N_A$ is the avogadro number, $M$ is the total mass of a mol and $m_N$ is the mass of is the mass of a single particles N making up the volume.\n",
    "\n",
    "Solving the equation above we have:\n",
    "\n",
    "$$I = I_0 e^{-\\frac{x}{n\\sigma_N}}$$\n",
    "\n",
    "where we can define:\n",
    "\n",
    "$$\\lambda = \\frac{1}{n\\sigma_N}$$\n",
    "\n",
    "as the interaction length. Likewise if projectile particles are travelling at speed v, the length travelled can be expressed as ${\\rm d}x = v {\\rm d} t$ giving a similar expression with a time constant:\n",
    "\n",
    "$$\\tau = \\frac{1}{n v\\sigma_N}$$\n",
    "\n",
    "Known as the lifetime. If several processes are taking place, we need to replace $n\\sigma_N$ as $\\sum n_i\\sigma_i$, which gives:\n",
    "$$\\frac{1}{\\tau_{total}} = \\frac{1}{\\tau_1} + \\frac{1}{\\tau_2} + ... + \\frac{1}{\\tau_n}$$\n"
   ]
  },
  {
   "cell_type": "markdown",
   "metadata": {},
   "source": [
    "## Cosmic Rays\n",
    "\n",
    "### Cosmic Ray Spectrum \n",
    "\n",
    "Cosmic rays mostly protons accelerated at sites within the galaxy.\n",
    "\n",
    "* As they are charged they are deviated in galactic and inter-galactic $\\vec{B}$ and solar and terrestrial magnetic fields. Directionality only possible for $E \\gt 10^{19}$ eV. \n",
    "* But interactions with CMB at $E \\sim 10^{19}$ limit horizon tens or hundreds of Mpc.\n",
    "* One century after discovery, origins of cosmic rays, in particular UHECR, remain **unknown**"
   ]
  },
  {
   "cell_type": "markdown",
   "metadata": {
    "slideshow": {
     "slide_type": "slide"
    }
   },
   "source": [
    "<center>\n",
    "<img src=\"images/cr.gif\" width=\"50%\">\n",
    "</center>"
   ]
  },
  {
   "cell_type": "markdown",
   "metadata": {
    "slideshow": {
     "slide_type": "slide"
    }
   },
   "source": [
    "### Cosmic Ray as Function of...\n",
    "\n",
    "There are four different ways to describe the spectra of the cosmic ray radiation:\n",
    "* By **particles per unit rigidity**. Propagation and deflection on magnetic fields depends on the rigidity.\n",
    "* By **particles per energy-per-nucleon**. Fragmentation of nuclei propagating through\n",
    "the interstellar gas depends on energy per nucleon, since that quantity is approximately conserved when a nucleus breaks up on interaction with the gas.\n",
    "* By **nucleons per energy-per-nucleon**. Production of secondary cosmic rays in the atmosphere depends on the intensity of nucleons per energy-per-nucleon, approximately independently of whether the incident nucleons are free protons or bound in nuclei.\n",
    "* By **particles per energy-per-nucleus**. Air shower experiments that use the atmosphere as a calorimeter generally measure a quantity that is related to total energy per particle.\n",
    "\n",
    "For $E > 100$ TeV the difference between the kinetic energy and the total energy is negligible and fluxes are obten presented as **particle per energy-per-nucleus**.\n",
    "\n",
    "For $E < 100$ TeV the difference is important and it is common to present\n",
    "**nucleons per kinetic energy-per-nucleon**. This is\n",
    "the usual way of presenting the spectrum for nuclei with different masses: the\n",
    "conversion in energy per nucleus is not trivial.\n",
    "\n"
   ]
  },
  {
   "cell_type": "markdown",
   "metadata": {},
   "source": [
    "### Primary Cosmic Rays\n",
    "\n",
    "The energy spectrum of primary nucleons from GeV to ~ 100 TeV is given by:\n",
    "\n",
    "$$ I(E) \\approx 1.8 \\times 10^4 \\left(\\frac{E}{1\\; \\rm{GeV}}\\right)^{-2.7} \\frac{\\rm{nucleons}}{\\rm{m}^2\\; \\rm{s\\;sr\\;GeV}}$$\n",
    "\n",
    "Where $\\alpha \\equiv 1+ \\gamma = 2.7$ is the differential spectral index and $\\gamma$ the integral spectral index. The composition of the bulk of cosmic rays are: 80% protons, 15% He, and he rest are heavier nuclei: C, O, Fe and other ionized nuclei and electrons (2%)"
   ]
  },
  {
   "cell_type": "markdown",
   "metadata": {
    "slideshow": {
     "slide_type": "slide"
    }
   },
   "source": [
    "<center>\n",
    "<img src=\"images/cosmic-rays.png\" width=\"50%\">\n",
    "</center>"
   ]
  },
  {
   "cell_type": "markdown",
   "metadata": {},
   "source": [
    "### Galactic Cosmic Ray Composition"
   ]
  },
  {
   "cell_type": "markdown",
   "metadata": {},
   "source": [
    "<center>\n",
    "<img src=\"images/composition.png\" width=\"50%\">\n",
    "</center>"
   ]
  },
  {
   "cell_type": "markdown",
   "metadata": {
    "slideshow": {
     "slide_type": "slide"
    }
   },
   "source": [
    "  \n",
    "* The chemical composition of cosmic rays is similar to the abundances of the elements in the Sun indicating an **stellar origin of cosmic rays**.\n",
    "* However there are some differences: Li, Be, B are secondary nuclei produced in the spallation of heavier elements (C and O). Also Mn, V, and Sc come from the fragmentation of Fe. These are usually referred as **secondary cosmic rays**. \n",
    "* The see-saw effect is due to the fact that nuclei with odd Z and/or A have weaker bounds and are less frequent products of thermonuclear reactions.\n",
    "\n",
    "By measuring the primary-to-secondary ratio we can infer the propagation and diffusion processes of CR "
   ]
  },
  {
   "cell_type": "markdown",
   "metadata": {},
   "source": [
    "### Electrons"
   ]
  },
  {
   "cell_type": "markdown",
   "metadata": {},
   "source": [
    "<center>\n",
    "<img src=\"images/electrons.png\" width=\"60%\">\n",
    "</center>"
   ]
  },
  {
   "cell_type": "markdown",
   "metadata": {},
   "source": [
    "The spectrum of electrons is expected to steepen by one power of E at around ~5 GeV because the radioactive energy loss in the galaxy.\n",
    "* The proton spectrum is also shown multiplied by 0.01.\n",
    "* ATIC measured and excess at 600 GeV while HESS measured a cutoff at ~ 1 TeV but no evidence for an excess. "
   ]
  },
  {
   "cell_type": "markdown",
   "metadata": {
    "slideshow": {
     "slide_type": "slide"
    }
   },
   "source": [
    "<div class=\"question\"><b>Question</b>\n",
    "Assuming the electron flux is only 1% of the protons. Is it the Earth positive charged-up?</div>"
   ]
  },
  {
   "cell_type": "markdown",
   "metadata": {},
   "source": [
    "### Electron to positron ratio $e^+/(e^+ + e^-)$\n",
    "\n",
    "* As antimatter is rare in the Universe today, all antimatter we observe are by-product of particle interactions such as Cosmic Rays interacting with the interstellar gas.\n",
    "* The PAMELA and AMS-02  satellite experiments measured the positron to electron ratio to increase above 10 GeV instead of the expected decrease at higher energy."
   ]
  },
  {
   "cell_type": "markdown",
   "metadata": {},
   "source": [
    "<center><img src=\"images/positron.png\" width=\"60%\"></center>"
   ]
  },
  {
   "cell_type": "markdown",
   "metadata": {
    "slideshow": {
     "slide_type": "slide"
    }
   },
   "source": [
    "This excess might hint to to contributions from individual nearby sources (supernova remnants or pulsars) emerging above a background suppressed at high energy by synchrotron losses"
   ]
  },
  {
   "cell_type": "markdown",
   "metadata": {
    "slideshow": {
     "slide_type": "slide"
    }
   },
   "source": [
    "### Dynamic of charge particles in magnetic fields.\n",
    "\n",
    "The galactic CR flux is, to some extent very isotropic. On the other hand, their sources should be mainly distributed on the Galactic Plane. That means that CRs undergo a diffusion process due to the magnetic field lines in the Galaxy. \n",
    "\n",
    "\n",
    "\n",
    "Let's assume the simplest case of a test particle or mass $m_0$ and charge $Ze$ and lorentz factor $\\gamma$ in an uniform static magnetic field, ${\\bf B}$.\n",
    "\n",
    "$$\\frac{d}{dt}(\\gamma m_0 {\\bf v}) = Ze ( {\\bf v} \\times {\\bf B})$$\n",
    "\n",
    "knowing the expression of $\\gamma$ we derive this:\n",
    "\n",
    "$$m_0 \\frac{d}{dt}(\\gamma {\\bf v}) = m_0\\gamma\\frac{d \\bf{v}}{dt} + m_0\\gamma^3 {\\bf v}\\frac{{\\bf v\\cdot a}}{c^2}$$\n",
    "\n",
    "In a magnetic field the acceleration is always perpendicular to ${\\bf v}$ so ${\\bf v\\cdot a} = 0$ resulting in:\n",
    "\n",
    "$$m_0\\gamma\\frac{d{\\bf v}}{dt} =  Ze ( {\\bf v} \\times {\\bf B})$$\n",
    "\n",
    "This equation tell us that there is no change in the $v_{\\parallel}$ the parallel component of the velocity and the aceleration is only perpendicular to the magnetic field direction, $v_{\\perp}$. Beacuse ${\\bf B}$ is constant this results in a spiral motion around the magnetic field."
   ]
  },
  {
   "cell_type": "markdown",
   "metadata": {
    "slideshow": {
     "slide_type": "subslide"
    }
   },
   "source": [
    "### Tutorial:  Motion of a charge particle in a slowly changing magnetic field"
   ]
  },
  {
   "cell_type": "markdown",
   "metadata": {},
   "source": [
    "First we will load the modules that we will along the notebook"
   ]
  },
  {
   "cell_type": "code",
   "execution_count": 2,
   "metadata": {
    "collapsed": true
   },
   "outputs": [],
   "source": [
    "%matplotlib inline\n",
    "import numpy as np\n",
    "import matplotlib.pylab as plt\n",
    "from mpl_toolkits.mplot3d import Axes3D\n",
    "from IPython.display import Latex"
   ]
  },
  {
   "cell_type": "code",
   "execution_count": 3,
   "metadata": {
    "slideshow": {
     "slide_type": "-"
    }
   },
   "outputs": [
    {
     "name": "stdout",
     "output_type": "stream",
     "text": [
      "Number of elements in t array:  20000\n"
     ]
    }
   ],
   "source": [
    "q = 1.0\n",
    "m = 10.0\n",
    "dt = 1e-3\n",
    "t0 = 0\n",
    "t1 = 10\n",
    "t2 = 20\n",
    "\n",
    "\n",
    "t = np.linspace(t0, t2, int((t2 - t0)/dt))\n",
    "n = len(t)\n",
    "print \"Number of elements in t array: \", n\n",
    "\n",
    "r = np.zeros((n,3))\n",
    "v = np.zeros((n,3))\n",
    "\n",
    "#Initial conditions\n",
    "\n",
    "r[0] = [0.0, 0.0, 0.0]\n",
    "v[0] = [2.0, 0.0, 3.0]\n",
    "\n",
    "#B = array([0.0, 0.0, 5.0])\n",
    "\n",
    "B = np.zeros((n,3))\n",
    "B[0] = np.array([0.0, 0.0, 4.0])\n",
    "dB = np.array([0.0, 0.0, 5e-3])\n",
    "for i in range(n-1):\n",
    "    a   = q/m* np.cross(v[i],B[i]) \n",
    "    v[i+1] = v[i] + a*dt\n",
    "    r[i+1] = r[i] + v[i+1]*dt\n",
    "    B[i+1] = B[i] + dB"
   ]
  },
  {
   "cell_type": "code",
   "execution_count": 4,
   "metadata": {
    "slideshow": {
     "slide_type": "subslide"
    }
   },
   "outputs": [
    {
     "data": {
      "image/png": "[encoded data removed]",
      "text/plain": [
       "<matplotlib.figure.Figure at 0x10d814190>"
      ]
     },
     "metadata": {},
     "output_type": "display_data"
    }
   ],
   "source": [
    "fig = plt.figure(figsize=(12,10))\n",
    "\n",
    "ax = fig.add_subplot(111, projection='3d')\n",
    "\n",
    "ax.plot(r[:,0], r[:,1], r[:,2])\n",
    "\n",
    "ax.set_xlabel(\"$x$\",fontsize=26)\n",
    "ax.set_ylabel(\"$y$\",fontsize=26)\n",
    "ax.set_zlabel(\"$z$\",fontsize=26)\n",
    "plt.show()"
   ]
  },
  {
   "cell_type": "markdown",
   "metadata": {
    "slideshow": {
     "slide_type": "subslide"
    }
   },
   "source": [
    "### Dynamic of charge particles in magnetic fields.\n",
    "\n",
    "The previous picture is a very simplistic one. Magnetic fields can vary slowly in time and have turbulences. In addition, generally cosmic ray particles propagate in collisionles, high-conductive, magnetized plasma consisting mainly of protons and electrons. Very often the energy density of cosmic ray partciles is comparable to that of the background medium and as a consequence, the electromagnetic field in the system is severely influenced by the cosmic ray particles and the description is more complex than the motion of a test charged particle in a fixed electromagnetic field.\n",
    "\n"
   ]
  },
  {
   "cell_type": "markdown",
   "metadata": {
    "slideshow": {
     "slide_type": "slide"
    }
   },
   "source": [
    "### Cosmic-ray interactions.\n",
    "\n",
    "Cosmic-ray particles are expected to interact during their travel. \n",
    "\n",
    "* <b>Coulomb collissions:</b> They occur when a particle interacts with another particle via electric fields.\n",
    "    * The Coulomb cross-section for a 1 GeV particle is 10$^{-30}$ cm$^2$.\n",
    "    * For 1 GeV cosmic-ray propating in the ISM (n $\\sim$ 1 cm$^{-3}$) the mean Coulomb collision rate is $n\\sigma v \\sim 10^{-19.5} {\\rm s}^{-1}$ which corresponds to 1% in a Hubble time! $\\rightarrow$ **Coulomb collisions can be neglected.**\n",
    "\n",
    "\n",
    "* <b>Spallations processes:</b> It occurs when C, N, O, Fe nuclei impact on intestellar hydrogen.\n",
    "    * The large nuclei is broken up into smaller nuclei."
   ]
  },
  {
   "cell_type": "markdown",
   "metadata": {},
   "source": [
    "### The interstellar medium\n",
    "\n",
    "Given the low density of the Galactic DM Halo it is clear that the spallation processes must occur in the Galactic Disk. The Galactic Disk is mostly populated by the Interstellar Medium  or ISM. It is mostly composed by Hydrogen in 3 different phases:\n",
    "\n",
    "* Molecular Gas. This phase is the more clumpsy as they gathered in molecular clouds that can reach densities of $10^{6}$ cm$^{-3}$ which is still very low for our atmosphere standards (14 lower). It is composed of hydrogene in molecular form, H$_2$, CO. Sometimes called stars nurseries they are stars forming regions. \n",
    "* Atomic Gas. Made up of neutral atomic Hydrogen (HI in astronomical nomenclature). The maps tracing the HI that is organized in a spiral pattern, like H$_2$, and also its structure is quite complex, with overdensities and holes.\n",
    "\n",
    "* Ionized Gas. Is ionized Hydrogen or HII. \n",
    "\n",
    "The overall density of the ISM is $\\sim 0.1-1$ cm$^{-3}$. The interstellar gas is not a an static gas, but rather is subject to a turbulent motion. "
   ]
  },
  {
   "cell_type": "markdown",
   "metadata": {},
   "source": [
    "### The Leaky Box model\n",
    "\n",
    "The *Leaky Box model* is a very simple model used to describe CR confinement.\n",
    "\n",
    "In this simplified phenomenological picture CRs are assumed be accelerated in the galactic plane and to propagate freely within a cylindrical box of size $H$ and radius $r$ and reflected at the boundaries; the loss of particles is parametrized assuming the existence of a non-zero probability of escape for each encounter with the boundary (Poisson process). "
   ]
  },
  {
   "cell_type": "markdown",
   "metadata": {
    "slideshow": {
     "slide_type": "subslide"
    }
   },
   "source": [
    "<center>\n",
    "<img src=\"images/leaky-box.png\" width=\"70%\">\n",
    "</center>"
   ]
  },
  {
   "cell_type": "markdown",
   "metadata": {
    "slideshow": {
     "slide_type": "slide"
    }
   },
   "source": [
    "### Primary-to-Secondary ratios\n",
    "\n",
    "Since we know the partial cross-section of spallation processes we can use the secondary-to-primary abundance ratios to infer the gas column density traversed by the average cosmic ray.\n",
    "\n",
    "\n",
    "\n",
    "\n",
    "\n",
    "Let us perform a simply estimate of the *Boron-to-Carbon ratio*. Boron is chiefly produced by Carbon and Oxygen with approximately conserved kinetic energy per nucleon (see *Superposition principle*), so we can relate the *Boron source production rate*, $Q_B(E)$ to the differential density of Carbon by this equation:\n",
    "\n",
    "$$Q_B(E) \\simeq n_{H} \\beta c \\sigma_{\\rightarrow B} N_C$$\n",
    "\n",
    "where, $n_H$ denotes the average interstellar gas number density and $N_C$ is the Carbon density and $\\beta c$ is the Carbon velocity and $\\sigma_{\\rightarrow B}$ is the spallation cross-section of Carbon into Boron.\n",
    "\n",
    "The Boron density is related to the production rate by the lifetime of Boron in the Galaxy, $\\tau$, before it escapes or losses itself energy by spallation:\n",
    "\n",
    "$$Q_B = \\dot{N}_B = \\frac{N_B}{\\tau}$$ \n",
    "\n",
    "where we used $\\dot{N}_B = \\frac{N_B}{\\tau}$ assuming a constant per unit time lifetime (see next Leaky Box model). So we can write:\n",
    "\n",
    "\n",
    "$$\\frac{N_B}{N_C} \\simeq n_{H} \\beta c \\sigma_{\\rightarrow B}\\tau$$\n",
    "\n"
   ]
  },
  {
   "cell_type": "markdown",
   "metadata": {},
   "source": [
    "### Boron-To-Carbon ratio"
   ]
  },
  {
   "cell_type": "markdown",
   "metadata": {},
   "source": [
    "<center><img src=\"images/boron-carbon.png\" width=\"60%\"></center>"
   ]
  },
  {
   "cell_type": "markdown",
   "metadata": {
    "slideshow": {
     "slide_type": "subslide"
    }
   },
   "source": [
    "This plot represents the 2014 measurements from PAMELA and AMS satellites of the Boron-to-Carbon ratio. The decrease in energy of the Boron-to-Carbon ratio suggests that high energy CR spend less time than the low energy ones in the Galaxy before escaping. \n",
    "\n",
    "We are going to retrive the data and fit it"
   ]
  },
  {
   "cell_type": "code",
   "execution_count": 5,
   "metadata": {
    "collapsed": true
   },
   "outputs": [],
   "source": [
    "\n",
    "#Data has been downloaded from https://lpsc.in2p3.fr/cosmic-rays-db/#\n",
    "\n",
    "data = np.loadtxt(\"carbon-boron-AMS02.dat\", unpack=True)\n",
    "\n",
    "x = data[0] #first column is the energy\n",
    "y = data[3] #ratio is the third element\n"
   ]
  },
  {
   "cell_type": "markdown",
   "metadata": {},
   "source": [
    "We are going to log-log in linear space and make the fit with a linear function"
   ]
  },
  {
   "cell_type": "code",
   "execution_count": 6,
   "metadata": {},
   "outputs": [
    {
     "name": "stdout",
     "output_type": "stream",
     "text": [
      "0.44 -0.34\n"
     ]
    },
    {
     "data": {
      "image/png": "[encoded data removed]",
      "text/plain": [
       "<matplotlib.figure.Figure at 0x10e869e10>"
      ]
     },
     "metadata": {},
     "output_type": "display_data"
    }
   ],
   "source": [
    "fig = plt.figure(figsize=(10,4))\n",
    "ax = plt.subplot(111)\n",
    "\n",
    "xlog = np.log10(x)\n",
    "ylog = np.log10(y)\n",
    "\n",
    "ax.plot(xlog, ylog, 'o')\n",
    "ax.set_ylabel(\"$\\log_{10}(B/C)$\", fontsize=20)\n",
    "ax.set_xlabel(r\"$\\log_{10}(E_{kin}/n [{\\rm GeV}])$\", fontsize=20)\n",
    "ax.grid()\n",
    "def func(x, a, b):\n",
    "    return a  + b *x\n",
    "\n",
    "from scipy.optimize import curve_fit\n",
    "#We only fit in the linear part, ie when E > 10 GeV\n",
    "popt, pcov = curve_fit(func, xlog[np.where(xlog > 1)], ylog[np.where(xlog > 1)])\n",
    "\n",
    "xgrid = np.linspace(1, 3, 100)\n",
    "\n",
    "ax.plot(xgrid, func(xgrid, popt[0], popt[1]),  linewidth=3)\n",
    "\n",
    "p1 = np.round(10**popt[0],2)\n",
    "p2 = np.round(popt[1],2)\n",
    "\n",
    "print p1, p2"
   ]
  },
  {
   "cell_type": "markdown",
   "metadata": {},
   "source": [
    "So we fitted the data to an test function of the form $\\mathcal{f} = \\alpha \\left(\\frac{E}{1\\; \\rm{ GeV}}\\right)^{\\beta}$ with $\\alpha$ = 0.44 and $\\beta$ = -0.34 "
   ]
  },
  {
   "cell_type": "markdown",
   "metadata": {},
   "source": [
    "Above about 10 GeV/nucleon the **experimental data** can be fitted to a test function , therefore the Boron-to-Carbon ratio can be expressed as:\n",
    "\n",
    "$$\\frac{N_B}{N_C} = n_{H}\\beta c \\sigma_{f,B} \\tau  =0.4 \\left(\\frac{E}{\\rm{GeV}}\\right)^{-0.3}$$\n",
    "\n",
    "For energies above 10 GeV/nucleon we can approximate $\\beta \\sim 1$, which leads, using the values of the cross-section, to a life time gas density of:\n",
    "\n",
    "$$ n_H \\tau \\simeq 10^{14}\\left(\\frac{E}{\\rm{GeV}}\\right)^{-0.3} \\; \\rm{s}\\;\\rm{cm}^{-3} $$"
   ]
  },
  {
   "cell_type": "markdown",
   "metadata": {},
   "source": [
    "#### Boron Lifetime\n",
    "\n",
    "But what is this Boron lifetime? The lifetime $\\tau$ for Boron includes the **catastrophic loss** time due to the partial fragmentation of Boron, $\\tau_{f,B}$ and the **escape probability** from the Galactic confinement volume, $T_{esc}$. The fragmentation cross section is $\\sigma_{f,B} \\approx 250$ mbarn so we find that:"
   ]
  },
  {
   "cell_type": "code",
   "execution_count": 7,
   "metadata": {},
   "outputs": [
    {
     "data": {
      "text/latex": [
       "The boron lifetime is approx: 1.33e+14 s cm$^{-3}$"
      ],
      "text/plain": [
       "<IPython.core.display.Latex object>"
      ]
     },
     "execution_count": 7,
     "metadata": {},
     "output_type": "execute_result"
    }
   ],
   "source": [
    "Latex(\"The boron lifetime is approx: %.2e s cm$^{-3}$\" %(1/0.250/1e-24/2.998e+10))"
   ]
  },
  {
   "cell_type": "markdown",
   "metadata": {},
   "source": [
    "$$n_H \\tau_{f,B} = \\frac{n_H}{n_H \\beta c \\sigma_{f,B}} \\simeq 1.33 \\times 10^{14}\\; \\rm{s}\\;\\rm{cm}^{-3} $$\n",
    "\n",
    "which is a good match with the loss time bound at $\\sim$ 1 GeV but is larger at higher energies and does not depend on energy. For example at 1 TeV it is an order of magnitude larger:\n",
    "\n",
    "$$ n_H\\tau(1\\; \\rm{TeV}) \\simeq 10^{14} 1000^{-0.3} \\sim 1.3 \\times 10^{13} \\rm{s\\;cm}^{-3}$$"
   ]
  },
  {
   "cell_type": "markdown",
   "metadata": {
    "slideshow": {
     "slide_type": "skip"
    }
   },
   "source": [
    "#### Borom escape\n",
    "\n",
    "It could be that Borom escape the leaky box, but that time will be $\\tau_{esc} = \\frac{H}{c}$ which will be roughly:\n",
    "\n",
    "$$\\tau_{esc} = \\frac{300\\;{\\rm pc}}{c} \\simeq 3\\times 10^{10}\\; {\\rm s} $$\n",
    "\n",
    "\n",
    "which is too small compared to the effective lifetime found. This seems to indicate that CR do not travel in straight lines. Let's assume that the overall process is a convination of both the borom fragmentation and another process with a lifetime $T$. By summing the inverse of these processes (being exponential processes):\n",
    "\n",
    "$$\\tau^{-1} =  n_H \\beta c \\sigma_{f,B} + T^{-1}$$\n",
    "\n",
    "and solving for $T$ we have that:\n",
    "\n",
    "$$n_H T = \\frac{n_H}{\\frac{1}{\\tau} - \\frac{1}{\\tau_{f,B}}} \\simeq \\frac{10^{14} \\; \\rm{s}\\;\\rm{cm}^{-3}}{\\left(\\frac{E}{\\rm{GeV}}\\right)^{-0.3} -0.7} \\simeq 10^{14}\\left(\\frac{E}{\\rm{GeV}}\\right)^{-0.55} \\rm{s}\\;\\rm{cm}^{-3}$$\n",
    "\n",
    "There no other physical loss process for Boron, so $T$ really must be the escape of the galactic confinement (leaky box). But if the box has a size $H$, $T_{esc}$ will be H/c which is the time required by CR generated in the Galactic plane to escape the box of height $H$! However we know that $T \\gg H/c$. So there must be something else confining the CR in the galaxy... what could it be?"
   ]
  },
  {
   "cell_type": "markdown",
   "metadata": {
    "slideshow": {
     "slide_type": "skip"
    }
   },
   "source": [
    "### Diffusion\n",
    "\n",
    "The results above leads to think that CR experience diffusion in the galaxy. The equation that we used to relate the Boron production rate by the Carbon spallation process can be seen as a diffuse equation.\n",
    "\n",
    "In diffusion the continuity equation states that the variation of the density $N$ in time is given by its transfer of flux in area plus the source contribution:\n",
    "\n",
    "$$\\frac{\\partial N}{\\partial t}= - \\nabla \\cdot \\mathbf{J} + Q $$\n",
    "\n",
    "where $Q$ is intensity of any local source of this quantity and $\\mathbf{J}$ is the flux. \n",
    "\n",
    "**Fick's first law:** the diffusion flux is proportional to the negative of the concentration gradient in an isotropic medium:\n",
    "\n",
    "$$\\mathbf{J}=-D \\nabla N$$\n",
    "$$J_i=-D \\frac{\\partial N}{\\partial x_i}$$\n",
    "\n",
    "where the proporcionality constant is called diffusion coefficient. Which leads to the diffusion equation of:\n",
    "\n",
    "$$\\frac{\\partial N}{\\partial t}= \\nabla^2 \\cdot \\mathbf{J} + Q = \\Delta \\mathbf{J} + Q =  -D\\Delta N + Q $$\n",
    "\n",
    "where $\\Delta$ is the Laplace operator.\n",
    "\n",
    "\n",
    "\n",
    "In the Leaky Box model the diffusion equation, ignoring other effects, can be written as:\n",
    "\n",
    "$$\\frac{\\partial N_i}{\\partial t} = -D\\Delta N_i =-\\frac{N_i}{T}$$\n",
    "\n",
    "where we made use of the fact that the escape probability is constant per unit time (Poisson process) and so the disitribution in time can be writen as: $N_i(t) = n_0 exp(−t/T_{esc})$\n",
    "\n",
    "In the equation above $D$ is the diffusion coefficient and $\\Delta$ is the Laplace operator.  In the absent of collisions and other energy changing processes, the distribution of cosmic ray path lengths can be written as $N_i = n_0 exp(−t/T) = n_0 exp(−z/H)$ so we can use the diffusion equation to write:\n",
    "\n",
    "\n",
    "$$T = \\frac{H^2}{D} \\rightarrow D(E) \\propto E^{\\delta} \\sim E^{0.55}$$\n",
    "\n",
    "\n"
   ]
  },
  {
   "cell_type": "markdown",
   "metadata": {
    "slideshow": {
     "slide_type": "subslide"
    }
   },
   "source": [
    "### The state-of-art of Diffusion\n",
    "\n",
    "The leaky box model is a very simplistic approximation but more\n",
    "realistic diffusion models, such as the numerical integration of the transport equation in the GALPROP code (Strong and Moskalenko 1998), lead to results for the major stable cosmic-ray nuclei, which are equivalent to the Leaky-Box predictions at high energy. However sofisticated models of transport should include effects such as:\n",
    "\n",
    "1. Diffusion coefficient non spatially constant.\n",
    "2. Anisotropic diffusion (Parallel vs Perpendicular)\n",
    "3. Effect of self-generation waves induced by CR.\n",
    "4. Damping of waves and its effects in CR propagation\n",
    "5. Cascading of modes in wavenumber space\n",
    "\n",
    "Each of these effects might change the predicted spectra and CR anisotropies in significant ways."
   ]
  },
  {
   "cell_type": "markdown",
   "metadata": {
    "slideshow": {
     "slide_type": "skip"
    }
   },
   "source": [
    "### Transport equation on Primaries\n",
    "\n",
    "The general simplified transport/dissusion equation that relate the abundances of CR elements can be given by:\n",
    "\n",
    "$$\\frac{\\partial N_i(E)}{\\partial t} =\\frac{N_i(E)}{T_{esc}(E)} = Q_i(E) - \\left(\\beta c n_H \\sigma_i + \\frac{1}{\\gamma\\tau_i}\\right)N_i(E) + \\beta c n_H \\sum_{k\\ge i}\\sigma_{k\\rightarrow i}N_K(E)$$\n",
    "\n",
    "where now $Q_i(E)$ is the **local production rate by a CR accelerator**, the middle part reprensents the **losses due to interactions** with cross-section $\\sigma_i$ and **decays for unestable nuclei** with lifetime $\\tau_i$. The last term is the **feed-down production** due to spallation processes of heavier CR. We can simplified this equation depending if we are dealing with Primary or Secondary CR:\n",
    "\n",
    "* Primaries $\\rightarrow$ neglect spallation feed-down.\n",
    "* Secondaries $\\rightarrow$ neglect production by sources: $Q_s = 0$\n",
    "\n",
    "For example, let's assume now a primary CR, $P$, where feed-down spallation is not taking place (ie, they are not product of heavier CR) and no decay (most nuclei are stable, one exception is $^{10}$Be which is unstable and $\\beta$-decay), the equation can be written as:\n",
    "\n",
    "$$\\frac{N_P(E)}{T_{esc}(E)} = Q_P(E) - \\frac{\\beta c \\rho_H N_P(E)}{\\lambda_P(E)} \\rightarrow N_P(E) = \\frac{Q_P(E)}{\\frac{1}{T_{esc}(E)}+\\frac{\\beta c \\rho_H}{\\lambda_P(E)}}$$\n",
    "\n",
    "where we wrote $n_H = \\rho_H/m$ and $\\lambda_P$ is the mean free path in g / cm$^2$."
   ]
  },
  {
   "cell_type": "markdown",
   "metadata": {
    "slideshow": {
     "slide_type": "subslide"
    }
   },
   "source": [
    "<div class=\"cite2c-biblio\"></div>### Transport equation on Primaries\n",
    "\n",
    "While $T_{esc}$ is the same for all nuclei with same rigidity, $\\lambda_i$ is different and depends on the mass of the nucleus. The equation suggests that at low energies the spectra for different nuclei will be different (eg for Fe interaction dominates over escape) and will be parallel at high energy if accelerated on the same source. For proton with interaction lengths $\\lambda_{proton} \\gg \\lambda_{esc}$ at all energies so the transport equation gets simplified to:\n",
    "\n",
    "$$N_{p}(E) = Q_p(E)\\cdot T_{esc}(E)$$\n",
    "\n",
    "ie, we observe at Earth a proton density of $N_p(E)\\propto E^{(\\gamma + 1)} \\sim E^{-2.7}$ at the production site it must be $Q_p(E) \\propto E^{\\alpha}$ with \n",
    "\n",
    "\n",
    "$$\\alpha = (\\gamma + 1) -\\delta \\approx 2.1$$\n"
   ]
  },
  {
   "cell_type": "markdown",
   "metadata": {},
   "source": [
    "## Acceleration\n",
    "\n",
    "Three questions:\n",
    "\n",
    "* What is the source of power?\n",
    "* What is the actual mechanism?\n",
    "* Can it reproduce the spectral index found?"
   ]
  },
  {
   "cell_type": "markdown",
   "metadata": {
    "slideshow": {
     "slide_type": "slide"
    }
   },
   "source": [
    "### Energy density of galactic CR\n",
    "\n",
    "In cosmic ray physics we called spectrum to the flux per stero radian, so the relationship between them is:\n",
    "\n",
    "$$\\Phi (E) = \\int_\\Omega {\\rm d} \\Omega I(E) = 4\\pi I(E)$$\n",
    "\n",
    "For all-hemispheres. So we can relate the number density of CR with the spectrum by:\n",
    "\n",
    "$$n(E) = \\frac{4\\pi}{v}I(E)$$\n",
    "\n",
    "since the flux is just the number density times the velocity.\n",
    "\n",
    "And so **kinetic energy density** of CR, $\\rho_{CR}$ is therefore the integral of the **energy density spectrum**, $E\\cdot n(E)$:\n",
    "\n",
    "$$\\rho_{CR} = \\int E n(E) {\\rm d} E =4\\pi \\int \\frac{E}{v}I(E) {\\rm d} E$$\n",
    "\n",
    "assuming for the Galactic CR:\n",
    "\n",
    "$$ I(E) \\approx 1.8 \\times 10^4 \\left(\\frac{E}{1\\; \\rm{GeV}}\\right)^{-2.7} \\frac{\\rm{nucleons}}{\\rm{m}^2\\; \\rm{s\\;sr\\;GeV}}$$\n",
    "\n",
    "we can calculate the energy density for cosmic-rays from above the solar modulations up the {\\it knee}, which is given by:\n",
    "\n",
    "$$ \\rho_{CR} = \\frac{4\\pi}{c} \\frac{1.8}{1 - 1.7} \\left[\\left(\\frac{E_{max}}{1\\;\\rm{GeV}}\\right)^{1 -1.7} - \\left(\\frac{E_{max}}{1\\;\\rm{GeV}}\\right)^{1 -1.7}\\right] \\approx 1\\; {\\rm ev\\; cm}^{-3}$$\n",
    "\n",
    "\n"
   ]
  },
  {
   "cell_type": "code",
   "execution_count": 8,
   "metadata": {},
   "outputs": [
    {
     "data": {
      "text/latex": [
       "The energy density is $\\rho_{CR} \\approx 1.08$ ev/cm$^{3}$"
      ],
      "text/plain": [
       "<IPython.core.display.Latex object>"
      ]
     },
     "execution_count": 8,
     "metadata": {},
     "output_type": "execute_result"
    }
   ],
   "source": [
    "import scipy.constants as cte\n",
    "from astropy.constants import pc\n",
    "\n",
    "cspeed = cte.value(\"speed of light in vacuum\") * 1e2 # in cm/s\n",
    "\n",
    "emin = 1. #GeV\n",
    "emax = 1e5 # 100 TeV\n",
    "rho =4 *np.pi /cspeed * 1.8 / (1 - 1.7)* (np.power(emax,1-1.7) - np.power(emin,1-1.7)) * 1e9 # in ev cm-3\n",
    "\n",
    "Latex(r\"The energy density is $\\rho_{CR} \\approx %.2f$ ev/cm$^{3}$\" %rho)"
   ]
  },
  {
   "cell_type": "markdown",
   "metadata": {},
   "source": [
    "This energy density is comparable with the energy density of the CMB $\\rho_{CMB} \\approx 0.25$ eV/cm$^{3}$"
   ]
  },
  {
   "cell_type": "markdown",
   "metadata": {},
   "source": [
    "### Power required for galactic CR\n",
    "\n",
    "If we assume this value to be the constant value over the galaxy, the power required (called *luminosity* in astrophysics) to supply all the galactic CR and balance the escape processes is:\n",
    "\n",
    "$$\\mathcal{L}_{CR} = \\frac{V_D \\rho_{CR}}{\\tau_{esc} }\\sim 4\\times 10^{40} {\\rm erg\\;s}^{-1}$$"
   ]
  },
  {
   "cell_type": "markdown",
   "metadata": {},
   "source": [
    "where $V_D$ is the volume of the galactic disk\n",
    "\n",
    "$$V_D = \\pi R^2 d \\sim \\pi (15 {\\rm kpc})^2(300 {\\rm pc}) \\sim 6 \\times 10^{66} {\\rm cm}^3.$$\n"
   ]
  },
  {
   "cell_type": "code",
   "execution_count": 9,
   "metadata": {},
   "outputs": [
    {
     "data": {
      "text/latex": [
       "Galactic Volume is 6.2e+66 cm$^{-3}$"
      ],
      "text/plain": [
       "<IPython.core.display.Latex object>"
      ]
     },
     "execution_count": 9,
     "metadata": {},
     "output_type": "execute_result"
    }
   ],
   "source": [
    "R = 15000 * pc.to(\"cm\").value # radius in Cm\n",
    "h = 300 * pc.to(\"cm\").value\n",
    "Vd = np.pi * R **2 * h\n",
    "Latex(r\"Galactic Volume is %.1e cm$^{-3}$\" %Vd)"
   ]
  },
  {
   "cell_type": "code",
   "execution_count": 10,
   "metadata": {},
   "outputs": [
    {
     "data": {
      "text/latex": [
       "Power $\\mathcal{L}_{CR} \\sim$ 1e+40 erg s$^{-1}$"
      ],
      "text/plain": [
       "<IPython.core.display.Latex object>"
      ]
     },
     "execution_count": 10,
     "metadata": {},
     "output_type": "execute_result"
    }
   ],
   "source": [
    "evtoerg = cte.value(\"electron volt-joule relationship\") * 1e7 \n",
    "tesc = 1e14 # s cm^3 at 1 GeV\n",
    "tesc = tesc/0.1 # s\n",
    "power = (Vd * rho) * evtoerg / tesc\n",
    "Latex(r\"Power $\\mathcal{L}_{CR} \\sim$ %.0e erg s$^{-1}$\" %(power))"
   ]
  },
  {
   "cell_type": "markdown",
   "metadata": {
    "slideshow": {
     "slide_type": "subslide"
    }
   },
   "source": [
    "\n",
    "It was emphasized long ago (Ginzburg & Syrovatskii 1964) that supernovae might account for this power. For example a type II supernova gives an average power output of:\n",
    "\n",
    "$$\\mathcal{L}_{SN} \\sim 3 \\times 10^{42} {\\rm erg\\;s}^{-1}$$\n",
    "\n",
    "Therefore if SN transmit a few percent of the energy into CR it is enough to account for the total energy in the cosmic ray beam $\\rightarrow$ **SNR paradigm**"
   ]
  },
  {
   "cell_type": "markdown",
   "metadata": {
    "slideshow": {
     "slide_type": "subslide"
    }
   },
   "source": [
    "### Power required for > 100 TeV\n",
    "\n",
    "The derivation above was considered using the CR flux with an integral spectral index of $\\gamma = \\alpha -1 =  1.7$ which describes well the CR up to the *knee*. This is the bulk of cosmic ray density. The power required for the high energy part will be significantly less due to the steeply falling primary cosmic ray spectrum. For example assuming an integral index of $\\gamma = 1.6$ for $E < 1000$ TeV and $\\gamma = 2$ for higher energy we get:\n",
    "\n",
    "$$\\begin{align*}\n",
    "\\sim 2 \\times 10^{39} {\\;\\rm\\;erg/s\\; for\\; } E &> 100 {\\rm\\; TeV}\\\\\n",
    "\\sim 2 \\times 10^{38} {\\;\\rm\\;erg/s\\; for\\; } E &> 1 {\\rm\\; PeV}\\\\\n",
    " \\sim 2 \\times 10^{37} {\\;\\rm\\;erg/s\\; for\\; } E &> 10 {\\rm\\; PeV}\n",
    " \\end{align*}$$\n",
    "\n",
    "which are considerably less than the total power required for all the cosmic-rays. This power might be available from a few very energetic sources.\n",
    "\n",
    "\n",
    "\n"
   ]
  },
  {
   "cell_type": "markdown",
   "metadata": {
    "slideshow": {
     "slide_type": "slide"
    }
   },
   "source": [
    "### Fermi Acceleration\n",
    "Fermi studied how it is posible to transfer macroscopic kinetic energy of moving magnetized plasma to individual particles. He considered an iterative process in which for each *encounter* a particle gains energy which is proportional to the energy.\n",
    "\n",
    "Let's write the increase in energy as $\\Delta E = \\xi E$ after $n$ encounters then:\n",
    "\n",
    "$$E_n = E_0(1 + \\xi)^n$$\n",
    "\n",
    "where $E_0$ is the injection energy in the *acceleration region*. If the probability of escaping this *acceleration region* is $P_{esc}$ per *encounter*, after $n$ the remaining probability is $(1 - P_{esc})^n$. To reach a given energy $E$ we need:\n",
    "\n",
    "$$n = \\log\\left(\\frac{E_n}{E_0}\\right)/\\log(1 + \\xi)$$ \n",
    "\n",
    "after each interaction there is a fraction $(1-P_{esc})$ that remain and the rest escapes the accelerator. If $N_0$ particles entered the \"encounter\" in the first place, after $n$ interaction those remaining are:\n",
    "\n",
    "$$N(\\ge  E_n) = N_0(1- P_{esc})^n $$\n",
    "\n",
    "These particles will always eventually escape since $P_{esc}$ is not 0, but for any given number of cycles, $n$, we can be sure that those remaining particles (whenever they escape) will have more energy than those that escaped at the cycle $n$.  We can rewrite:\n",
    "\n",
    "$$\\log\\left(\\frac{N}{N_0}\\right) = n(1 - P_{esc}) $$\n",
    "\n",
    "\n",
    "equalling $n$ with the equation above we have:\n",
    "\n",
    "$$\\frac{\\log (N/N_0)}{\\log (E_n/E_0)} = \\frac{\\log(1-P_{esc})}{\\log(1+ \\xi)}$$\n",
    "\n",
    "For any given energy then we have:\n",
    "\n",
    "$$N(\\ge E) = N_0 \\left(\\frac{E}{E_0}\\right)^{-\\gamma}$$\n",
    "\n",
    "where we defined \n",
    "\n",
    "$$\\gamma = \\log\\left(\\frac{1}{1-P_{esc}}\\right)\\frac{1}{\\log (1+\\xi)} \\approx \\frac{P_{esc}}{\\xi} = \\frac{1}{\\xi}\\cdot\\frac{T_{cycle}}{T_{esc}}$$\n",
    "\n",
    "where $T_{cycle}$ is the characteristic time of acceleration cycle, and $T_{esc}$ is the characteristic time to escape the accelarion region.\n"
   ]
  },
  {
   "cell_type": "markdown",
   "metadata": {},
   "source": [
    "### Fermi Mechanism\n",
    "\n",
    "\n",
    "A mechanism working for a time $t$ will produce a maximum energy:\n",
    "\n",
    "$$E\\leq E_0 (1+\\xi)^{t/T_{cycle}}$$\n",
    "\n",
    "Two characteristic features are apparent from this equation: \n",
    "\n",
    "* High energy particles take longer to accelerate\n",
    "* If a given kind of Fermi accelerator has a limited lifetime this will be characterize by a maximum energy per particle that can produce."
   ]
  },
  {
   "cell_type": "markdown",
   "metadata": {},
   "source": [
    "#### General mechanism\n",
    "\n",
    "In the general mechanism we can imagine a particle encountering something moving at a speed $\\beta$. This \"something\" can be for example a magnetic cloud."
   ]
  },
  {
   "cell_type": "markdown",
   "metadata": {},
   "source": [
    "<center><img src=\"images/fermi_general.jpeg\" width=\"50%\"></center>"
   ]
  },
  {
   "cell_type": "markdown",
   "metadata": {
    "slideshow": {
     "slide_type": "subslide"
    }
   },
   "source": [
    "In this general approach, the particle might enter at different angles and exit at difference angles. In the rest frame of the moving \"encounter\", a particle with energy $E_1$ hast a total energy of:\n",
    "\n",
    "$$E_1^\\prime = \\gamma E_1 (1 -\\beta \\cos\\theta_1)$$\n",
    "\n",
    "Before leaving the gas cloud the particle has an anegy $E_2^\\prime$. If we transform this back to the lab reference system we get:\n",
    "\n",
    "$$E_2 = \\gamma E_2^\\prime (1 +\\beta \\cos\\theta_2^\\prime)$$\n",
    "\n",
    "where primes denote the values measured in the rest frame of the cloud and $\\beta$ refers to the plasma flow (not the CR). As the particle suffers from colissioness scatterings inside the cloud the energy in the moving frame just before it escapes is $E_2^\\prime = E_1^\\prime$ and so:\n",
    "\n",
    "$$\\xi = \\frac{\\Delta E}{E_1} = \\frac{1 - \\beta \\cos \\theta_1 + \\beta\\cos\\theta_2^\\prime - \\beta^2\\cos\\theta_1\\cos\\theta_2^\\prime}{1 - \\beta^2} -1$$"
   ]
  },
  {
   "cell_type": "markdown",
   "metadata": {},
   "source": [
    "### Fermi 2nd order acceleration.\n",
    "\n",
    "In the **second order** (first chronologically) Fermi considered *encounters* with moving clouds of plasma. "
   ]
  },
  {
   "cell_type": "markdown",
   "metadata": {},
   "source": [
    "<center><img src=\"images/Fermi2nd.png\" width=\"50%\"></center>"
   ]
  },
  {
   "cell_type": "markdown",
   "metadata": {
    "slideshow": {
     "slide_type": "subslide"
    }
   },
   "source": [
    "* The scattered angle is uniform so the average value is $\\langle \\cos\\theta_2^\\prime\\rangle = 0$.\n",
    "\n",
    "* The probability of collision at angle $\\theta$ with the cloud of speed V is proportional to the relative velocity between the cloud and the particle $c$ if we assume it relativistic (factor $1/2$ is there to have a proper normalization):\n",
    "\n",
    "\n",
    "$$\\frac{dn}{d\\cos \\theta_1} = \\frac{1}{2}\\frac{c - V\\cos\\theta_1}{c}=\\frac{1 -\\beta \\cos\\theta_1}{2}, {\\;\\; \\rm for -1 \\leq \\cos\\theta_1 \\leq 1}$$\n",
    "\n",
    "and so:\n",
    "\n",
    "$$\\langle \\cos\\theta_1\\rangle = \\frac{\\int \\cos\\theta_1 \\cdot \\frac{dn}{d\\cos\\theta_1} d\\cos\\theta_1}{\\int \\frac{dn}{d\\cos\\theta_1}d\\cos\\theta_1} = - \\frac{\\beta}{3}$$\n",
    "\n",
    "Particles can gain or lose energy depending on the angles, but on average the gain is \n",
    "\n",
    "\n",
    "$$\\xi = \\frac{1 + \\frac{1}{3}\\beta^2}{1 - \\beta^2} \\sim \\frac{4}{3}\\beta^2$$"
   ]
  },
  {
   "cell_type": "markdown",
   "metadata": {
    "slideshow": {
     "slide_type": "subslide"
    }
   },
   "source": [
    "\n",
    "#### Problems with the 2nd order acceleration\n",
    "\n",
    "* The energy increase is second order of $\\beta$ and..\n",
    "* ... the random velocities of clouds are relatively small: $\\beta \\sim 10^{-4}$ !!!\n",
    "* Some collisions result in energy losses! Only with the average one finds a net increase.\n",
    "* Very little chance of a particle gaining significant energy!\n",
    "* The theory does not predict the power law exponent\n"
   ]
  },
  {
   "cell_type": "markdown",
   "metadata": {
    "slideshow": {
     "slide_type": "subslide"
    }
   },
   "source": [
    "### Fermi Acceleration 1st order acceleration.\n",
    "\n",
    "* In the **first order**  a shock front moves with speed $-\\vec{u_1}$. The shocked gas flows away from the shock with a velocity ${\\vec u_2}$ where $|u_2| < |u_1|$. In the lab frame the gas moves away from the shockwave with speed ${\\vec V = - \\vec u_1 + \\vec u_2}$ and $\\beta = V/c$ refers now to the shocked (downstream) gas.\n",
    "\n"
   ]
  },
  {
   "cell_type": "markdown",
   "metadata": {
    "slideshow": {
     "slide_type": "skip"
    }
   },
   "source": [
    "\n",
    "* The outcoming distribution of particles is not now 0, there is an assymetry in the Fermi shock acceleration model, as particle in the upstream will re-enter the shock, only those going downstream can escape. Therefore the distribution follows the projection of an uniform flux on a plane:\n",
    "\n",
    "$$\\frac{dn}{d\\cos \\theta_2^\\prime} = 2 \\cos\\theta_2^\\prime{\\;\\; \\rm for\\;  0 \\leq \\cos\\theta_2^\\prime \\leq 1}$$\n",
    "\n",
    "which gives:\n",
    "\n",
    "\n",
    "$$\\langle \\cos\\theta_2^\\prime\\rangle = \\frac{\\int \\cos\\theta_2^\\prime \\cdot \\frac{dn}{d\\cos\\theta_2^\\prime} d\\cos\\theta_2^\\prime}{\\int \\frac{dn}{d\\cos\\theta_2^\\prime}d\\cos\\theta_2^\\prime} = \\frac{2}{3}$$\n",
    "\n",
    "* The incoming angle distribution is also the projection of an uniform flux on a plen but this time with  $-1 \\leq \\cos\\theta_1 \\leq 0$ and so $\\langle \\cos \\theta_1 \\rangle = -2/3$\n",
    "\n",
    "\n",
    "Particles entering the shockwave and exiting will have a gain of:\n",
    "\n",
    "$$\\xi = \\frac{1 + \\frac{4}{3}\\beta + \\frac{4}{9}\\beta^2}{1 -\\beta^2} - 1 \\sim \\frac{4}{3}\\beta = \\frac{4}{3}\\frac{u_1 - u_2}{c}$$"
   ]
  },
  {
   "cell_type": "markdown",
   "metadata": {
    "slideshow": {
     "slide_type": "slide"
    }
   },
   "source": [
    "### Fermi Acceleration: Escape probability\n",
    "\n",
    "The escape probability of loss rate of particles is given by the ratio of the incoming flux and the outgoign flux of particles."
   ]
  },
  {
   "cell_type": "markdown",
   "metadata": {
    "slideshow": {
     "slide_type": "skip"
    }
   },
   "source": [
    "\n",
    "\n",
    "* **Incoming flux.** The rate of encounters for a plane shock is the projection of an isotropic flux onto the plane shock. Close to the shockwave the flux is isotropic because particles are diffused (diffuse shock acceleration). Let's assume $n$ to be the density of particles close to the shock, because it is isotropic it should follow:\n",
    "\n",
    "\n",
    "$${\\rm d}n = \\frac{n}{4\\pi}{\\rm d}\\Omega$$\n",
    "\n",
    "the velocity across the shock is $c\\cos\\theta$ so:\n",
    "\n",
    "$$\\Phi_{in} = \\int_0^1 {\\rm d} \\cos \\theta \\int_0^{2\\pi} {\\rm d} \\phi\\frac{cn(E)}{4\\pi}\\cos\\theta = \\frac{cn(E)}{4}$$\n",
    "\n",
    "where $n(E)$ is the CR number density. \n",
    "* **Outgoing flux.** In the shock rest frame, there is an outflow of cosmic-rays averted downstream. Since particles are diffusing in all direction, the net outflow goes with the velocity of the downstream spped and is given simply by $\\Phi_{out} = n(E) u_2$,\n",
    "\n",
    "Therefore the escape probability is given by:\n",
    "\n",
    "$$P_{esc} = \\frac{\\Phi_{in} }{\\Phi_{out} }= \\frac{4 u_2}{c}$$\n",
    "\n",
    "which for acceleration at shock gives:\n",
    "\n",
    "$$\\gamma = \\frac{P_{esc}}{\\xi} = \\frac{3}{u_1/u_2 -1}$$\n",
    "\n",
    "So we get an estimate of the spectral index based on the relative velocities of the downstream and upstram gas in the sockwave."
   ]
  },
  {
   "cell_type": "markdown",
   "metadata": {
    "slideshow": {
     "slide_type": "subslide"
    }
   },
   "source": [
    "### Fermi acceleration: Kinematic relations at the shock\n",
    "In order to derive the exact value of the spectral index we need to obtain a relation between $u_1$ and $u_2$ using the kinematics of a shock wave. This equations are the conservation of mass, the Euler equation for momentum conservation and conservation of energy: \n"
   ]
  },
  {
   "cell_type": "markdown",
   "metadata": {
    "slideshow": {
     "slide_type": "skip"
    }
   },
   "source": [
    "* **Conservation of mass**:\n",
    "$$\\partial_t \\rho + \\nabla \\cdot (\\rho\\vec{u}) = 0$$\n",
    "\n",
    "* **Conservation of momentum (Euler equation)**:\n",
    "\n",
    "$$\\rho\\frac{\\partial \\vec{u}}{\\partial t} + \\rho \\vec{u} \\cdot(\\nabla\\vec{u}) = \\vec{F} - \\nabla P$$\n",
    "\n",
    "where $\\vec{F}$ is an external force, and $\\nabla P$ is a force due to a pressure gradient. \n",
    "\n",
    "* **Conservation of energy**:\n",
    "\n",
    "$$\\frac{\\partial}{\\partial t} \\left(\\frac{\\rho u^2}{2} + \\rho U + \\rho\\Phi\\right) + \\nabla\\cdot\\left[\\rho \\vec{u}\\left(\\frac{u^2}{2} + U + \\frac{P}{\\rho} + \\Phi\\right)\\right] = 0 $$\n",
    "\n",
    "where this equation accounts for the kinetic, internal, and potential energy $\\Phi$. \n",
    "\n",
    "Let's assume a one-dimensional, steady shock in its rest frame (otherwise time derivates must be taking into account). \n",
    "\n",
    "Then the first equation becomes simply:\n",
    "$$\\frac{d}{dx} (\\rho u) = 0$$ \n",
    "\n",
    "and the Euler equation simplifies to:\n",
    "\n",
    "$$\\frac{d}{dx}(P + \\rho u^2) = 0$$\n",
    "\n",
    "In the energy equation we assune $\\Phi = 0$:\n",
    "\n",
    "$$\\frac{d}{dx}\\left(\\frac{\\rho u^3}{2} + (\\rho U + P)u\\right) = 0 $$\n",
    "\n",
    "$$ \\frac{d}{dx}\\left[ \\rho u \\left(\\frac{u^2}{2} + U + \\frac{P}{\\rho}\\right) \\right] = 0 $$\n",
    "\n",
    "where U is the internal density per unit volume and we can write $ \\rho U = P /(\\Gamma -1)$, where $\\Gamma = c_p/c_v$ is the [adiabatic index](http://en.wikipedia.org/wiki/Heat_capacity_ratio) or heat capacity ratio.\n",
    "\n",
    "\n"
   ]
  },
  {
   "cell_type": "markdown",
   "metadata": {
    "slideshow": {
     "slide_type": "skip"
    }
   },
   "source": [
    "#### Condition at the discontinuity of the shock wave\n",
    "\n",
    "Let's assume we are in the shock ref system. Applyting these equations at the discontinuity of the shock we have:\n",
    "\n",
    "$$\\begin{align*}\n",
    "\\rho_1 u_1 &= \\rho_2 u_2\\\\\n",
    "P_1 + \\rho_1 u_1^2 &= P_2 + \\rho_2 u_2^2\\\\\n",
    "\\frac{\\rho_1 u_1^2}{2} + \\frac{\\Gamma}{\\Gamma - 1} P_1 &=\\frac{\\rho_2 u_2^2}{2} + \\frac{\\Gamma}{\\Gamma - 1}  P_2\\\\\n",
    "\\end{align*}$$\n",
    "\n",
    "\n",
    "For a gas with $P = K \\rho^\\Gamma$ the speed of sound can be written as $c_s = \\sqrt{\\Gamma P / \\rho}$ or $\\rho c_s^2 = \\Gamma P$ From equation 2 we can write:\n",
    "\n",
    "$$ P_1 + \\rho_1 u_1^2 =  \\rho_1 u_1^2 \\left( 1 + \\frac{P_1}{\\rho_1 u_1^2}\\right)  = \\rho_1 u_1^2 \\left( 1 + \\frac{c_s^2}{\\Gamma u_1^2}\\right) = \\rho_1 u_1^2 \\left(1 + \\frac{1}{\\mathcal{M_1}\\Gamma}\\right) $$\n",
    "\n",
    "For strong shocks $\\mathcal{M_1} \\gg 1$ then the presure in the upstream is neglicable $P_1 \\sim 0$\n",
    "\n",
    "We can isolate $\\rho_2$ and $P_2$ as:\n",
    "\n",
    "$$\\rho_2 = \\frac{u_1}{u_2} \\rho_1$$\n",
    "\n",
    "$$P_2 = P_1 + \\rho_1 u_1^2 - \\rho_1 \\frac{u_1}{u_2}u_2^2 = P_1 + \\rho_1 u_1 (u_1 - u_2) \\sim \\rho_1 u_1 (u_1 - u_2)$$\n",
    "\n",
    "\n",
    "Using these expression ot eliminate $\\rho_2$ and $P_2$ from the thrid (enegy conversvation) equation we have:\n",
    "\n",
    "\n",
    "$$\\frac{1}{2}u_1^2 = \\frac{1}{2}u_2^2 + \\frac{\\Gamma}{\\Gamma -1}\\frac{P_2}{\\rho_2} = \\frac{1}{2}u_2^2 + \\frac{\\Gamma}{\\Gamma -1} u_2 (u_1 - u_2)$$\n",
    "\n",
    "grouping by powers of $u_2$:\n",
    "\n",
    "$$\\left(\\frac{\\Gamma}{\\Gamma -1} - \\frac{1}{2}\\right) u_2^2 - \\frac{\\Gamma}{\\Gamma -1} u_2u_1 + u_1^2 = 0 $$\n",
    "\n",
    "multiplying by $2/u_1^2$:\n",
    "$$\\left(\\frac{\\Gamma + 1 }{\\Gamma -1}\\right) t^2 - \\frac{2\\Gamma}{\\Gamma -1} t + 1 = 0$$\n",
    "\n",
    "where we defined $t \\equiv u_2/u_1$ this quadratic equation has the 2 solutions:\n",
    "\n",
    "$$ t = 1 \\rightarrow u_1 = u_2$$\n",
    "\n",
    "and:\n",
    "\n",
    "$$ t = \\frac{\\Gamma - 1}{\\Gamma + 1} \\rightarrow \\frac{u_2}{u_1} = \\frac{\\Gamma - 1}{\\Gamma +1}$$\n",
    "\n",
    "for a monatomic gas with 3 degrees of freedom the ratio of specific heats is $\\Gamma = 1 + 1/f = \\frac{5}{3}$, so\n",
    "\n",
    "$$\\frac{u_2}{u_1} = \\frac{1}{4}$$\n",
    "\n",
    "No matter how strong a shock wave is, a mono-atomic gas can only be compressed by a factor of 4. The spectral index is then:\n",
    "\n",
    "$$\\gamma = \\frac{P_{esc}}{\\xi} = \\frac{3}{u_1/u_2 -1} = 1$$\n",
    "\n",
    "If one keeps the factors of $1/\\mathcal{M}^2$ (to prove if you are brave):\n",
    "\n",
    "$$\\gamma \\sim 1 + \\frac{4}{\\mathcal{M}^2} \\sim 1.1$$\n",
    "\n",
    "Which matches remarkably to what we derived to be the differential spectral index at the accelerator ${\\rm d}N/{\\rm d}E \\propto E^{-(\\gamma+1)} \\sim E^{-2.1} $"
   ]
  },
  {
   "cell_type": "markdown",
   "metadata": {
    "slideshow": {
     "slide_type": "subslide"
    }
   },
   "source": [
    "### Fermi acceleration: Maximum Energy\n",
    "\n",
    "In an infinite planar shockwave, all particles upstream will encounter again the shochwave. However particles can advent downstream. In diffuse shock accelerations, particules will diffuse travelling a distance $l_D$ upstream, until they are reached by the shock moving at spead $u_1$ in the upstream reference system. Particles will cross when:\n",
    "\n",
    "$$ l_d \\simeq \\sqrt{D t_d}$$\n",
    "$$ l_d = u_1 t_d $$\n",
    "\n",
    "$$ t_d \\approx \\frac{D}{u_1^2}$$\n",
    "\n",
    "Assuming a diffusion that depends on energy in the form of $D = D_0 E^{\\alpha}$ we can get that the maximum energy corresponds to:\n",
    "\n",
    "$$E_{max} \\leq \\left(\\frac{u_1^2 t_d}{D_0}\\right)^{\\frac{1}{\\alpha}}$$\n",
    "\n",
    "where we can assume $t_d$ to be the time during which the mechanism is working, ie the livetime of the shockwave. From the equation above we can conclude that the maximum energy:\n",
    "\n",
    "* increases with time\n",
    "* depends on: age, shock speed, magnetic field intensity and structure (through D)\n",
    "* is not universal\n",
    "\n",
    "We can rewrite the diffusion coefficient. We can rewrite the diffusion coefficient as: \n",
    "$$ D \\sim \\frac{l_d^2}{t_d} = l_d v $$\n",
    "where $v$ is the particle speed. A more detailed analysis gives $D = \\frac{1}{3}l_d v$ where the factor 3 comes from the 3 dimensions. At low energies, or when the larmour radious of the particle is smaller that the magnetic cloud size we can approximate $l_d = r_L$:\n",
    "\n",
    "$$ D = \\frac{r_L c}{3} \\sim \\frac{1}{3}\\frac{E c}{Z eB} $$\n",
    "\n",
    "This is the Bohm  diffusion coefficient and it is possible in higly turbulent magnetic fields, something that theoreticians think is possible when CR excite magnetic turbulence at shocks while being accelerated. This is called magnetic field amplification.\n",
    "\n",
    "In that case, the diffusion coefficient depends linearly with energy ($\\alpha = 1$) and the equation above can be rewritten as:\n",
    "\n",
    "$$E_{max} \\leq 3 \\frac{u_1}{c} Z e B (u_1 t_d)$$\n",
    "\n",
    "where $T_A$ is the time in which the accelerator is working. Using some estimates on the time ($t_d \\sim$ 1000 yrs as the typical SN shockwave) and $B_{ISM} \\sim 3 \\mu$G then gives:\n",
    "\n",
    "$$E_{max} \\leq Z\\times 3 \\times 10^4 {\\rm GeV}$$\n",
    "\n",
    "In order words, the shock-wave acceleration shown can accelerate CR **up to 100 Z TeV**, but not beyond this. Other acceleration mechanism are needed for the highest energy cosmic rays. We need very high magnetic fields (non-lineal acceleration mechanism). In these cases, even if this object cannot supply the all the galactic cosmic rays the energy per particle may be orders of magnitude higher than those possible in shock acceleration by blast waves. "
   ]
  },
  {
   "cell_type": "markdown",
   "metadata": {},
   "source": [
    "### Hillas Plot\n",
    "In 1984 Hillas did a back-of-an-envelope assumption that in order for it to accelerate CR particles to high\n",
    "energies, the size of the acceleration region must be at least twice the\n",
    "Larmor radius. The formula is:\n",
    "\n",
    "$$E_{max} \\simeq 10^{18} {\\rm eV}\\; Z \\;\\beta \\left(\\frac{R}{\\rm{kpc}}\\right)\\left(\\frac{B}{\\mu\\rm{G}}\\right)$$\n",
    "\n",
    "where $\\beta$ is the shock velocity, $R$ is the size of the region and $B$ the magnetic field strength."
   ]
  },
  {
   "cell_type": "markdown",
   "metadata": {
    "slideshow": {
     "slide_type": "subslide"
    }
   },
   "source": [
    "<center><img src=\"images/Hillas_plot.png\" width=\"50%\"></center>"
   ]
  },
  {
   "cell_type": "markdown",
   "metadata": {
    "slideshow": {
     "slide_type": "slide"
    }
   },
   "source": [
    "\n",
    "# Supernova Remnants (SNRs)\n",
    "\n",
    "**Supernova remnants (SNR)** remain the most likely candidates for CR acceleration up to at least 10$^{14}$ eV via the Fermi shock mechanism. Supernova explosions are very violent events which transfer a significant amount of energy in the ISM. The explosion mechanism can be the carbon deflagration of white dwarts (Type I) or the core collapse of masssive stars (Type II) but the dynamical evolution of the supernova remnant (SNR) i.e., the expanding cloud of hot gas in the ISM is similar:\n",
    "\n",
    "* **Free Expansion Phase.** $M_{ej} \\ll M_{sw}$ The shock wave moves in the ISM gas a highly supersonic speed. The shock radius scales as: $R_s(t) = v_e t$. Behind the shockfront ISM gas starts to accumulate an a reverse shock starts to form. Sometimes we see first this reverse shock. At some point the compressed ISM gas equals the ejected material, this marks the end of the free expansion phase. It lasts less than 200-300 years.\n",
    "\n",
    "\n",
    "\n",
    "\n",
    "* **Sedov-Taylor Phase.** Once the reverse shock reaches the nucleus, the interior of the SNR gets very hot that energy losses due to radiation are not possible (all atmos are ionized). The cooling of the gas is only due to the expansion, that's why this phase is the adiabatic phase. The radius goes as $R \\propto t^{2/5}$. When temperature reaches the critical value of $10^{6}$ K ionized atoms start to capture free electrons and can lose energy due to de-exitation. This is the end of the adiabatic phase. This phase can last 20,000 years. *This is the phase when Cosmic Rays are mostly accelerated*. \n",
    "\n",
    "* **Cooling or Snowplough phase** Due to the effective radiative cooling the thermal presure decreases and the expansion slows down. More and more interstellar gas is accumulated until the swept-up mass is much larger than the ejected material. Finally the shell breaks up into clumps probably due to Rayleigh-Taylor inestabilities. This phase lasts up to 500,000 years.\n",
    "\n",
    "\n"
   ]
  },
  {
   "cell_type": "markdown",
   "metadata": {},
   "source": [
    "### The Tycho SNR"
   ]
  },
  {
   "cell_type": "markdown",
   "metadata": {},
   "source": [
    "<center>\n",
    "<img src=\"images/mach1000shoc.jpg\" alt=\"Credit: X-ray: NASA/CXC/Rutgers/K. Eriksen et al.; Optical (starry background): DSS\" width=\"50%\">\n",
    "</center>"
   ]
  },
  {
   "cell_type": "markdown",
   "metadata": {
    "slideshow": {
     "slide_type": "subslide"
    }
   },
   "source": [
    "This is a photograph of the Tycho supernova remnant taken by the Chandra X-ray Observatory. Low-energy X-rays (red) in the image show expanding debris from the supernova explosion and high energy X-rays (blue) show the blast wave, a shell of extremely energetic electrons. The X-ray emission of the debris is due to the reverse shock wave racing inward at Mach 1000 which is heating the remnant and causing it to emit X-ray light."
   ]
  },
  {
   "cell_type": "markdown",
   "metadata": {
    "slideshow": {
     "slide_type": "subslide"
    }
   },
   "source": [
    "### Other sources of Galactic Cosmic Rays\n",
    "\n",
    "\n",
    "* **Neutron stars** Neutron stars, especially young fast-rotating pulsars and magnetars possess extreme magnetic fields (up to 10$^{12}$ G in the\n",
    "case of magnetars) with complex structure that could accelerate CR up to the highest energies. These objects are far rarer than SNRs, however, only a dozen magnetars are known in the Milky Way, although many could\n",
    "exist in the local neighborhood.\n",
    "\n",
    "* **Microquasars**  are radio-intense X-ray binary stars with companion orbiting an accreting black hole. They are particularly interesting particle accelerators due to observation of VHE gamma ray emission and highly relativistic jets which could provide energy for UHECR\n"
   ]
  },
  {
   "cell_type": "markdown",
   "metadata": {},
   "source": [
    "### The Knee"
   ]
  },
  {
   "cell_type": "markdown",
   "metadata": {},
   "source": [
    "<center>\n",
    "<img src=\"images/cr_fig9_eV_07.png\" width=\"40%\">\n",
    "</center>"
   ]
  },
  {
   "cell_type": "markdown",
   "metadata": {},
   "source": [
    "At energies of about 5 $\\times 10^{15}$ eV a steepening in the spectrum from $\\gamma \\sim 1.7 \\rightarrow \\gamma \\sim 2$ known as the *knee* takes place. \n",
    "Already Peters in 1959 concluded that it could be due to:\n",
    "\n",
    "   * Consequence of the breakdown of an acceleration mechanism.\n",
    "   * Increased rate of escape from the galaxy at high energies.\n",
    "\n",
    "A third explanation could be a change in CR interactions at ${\\sqrt s} \\sim $ few TeV.  The first two explanantions produce a rigidity dependent *knee*, ie the position of the *knee* for different nuclei depends on $Z$, while the third explanation will depend on $A$. Experimentally the rigidity dependence is favored. "
   ]
  },
  {
   "cell_type": "markdown",
   "metadata": {
    "slideshow": {
     "slide_type": "slide"
    }
   },
   "source": [
    "<center><img src=\"images/knee.png\" width=\"40%\"></center>"
   ]
  },
  {
   "cell_type": "markdown",
   "metadata": {},
   "source": [
    "### The Ankle and beyond"
   ]
  },
  {
   "cell_type": "markdown",
   "metadata": {},
   "source": [
    "<center>\n",
    "<img src=\"images/ankle.png\">\n",
    "</center>"
   ]
  },
  {
   "cell_type": "markdown",
   "metadata": {
    "slideshow": {
     "slide_type": "slide"
    }
   },
   "source": [
    "* A proton of energies $10^{18}$ eV has a gyroradious of a kpc in a typical magnetic field $\\rightarrow$ extra-Galactic origin.\n",
    "\n",
    "\n",
    "* Greissen-Zatsepin and Kuz-min predicted that at energies of $\\sim 10^{19}$ eV will interact with the low energy photons of the CMB. This interaction leads to a supression of flux above $5\\times10^{19}$ eV unless the sources are within a few tens of Mpc. This supression is referred as GZK cutoff."
   ]
  },
  {
   "cell_type": "markdown",
   "metadata": {},
   "source": [
    "### High Energy Composition"
   ]
  },
  {
   "cell_type": "markdown",
   "metadata": {},
   "source": [
    "<center><img src=\"images/AugerUHECRComp.png\" width=\"40%\"></center>"
   ]
  },
  {
   "cell_type": "markdown",
   "metadata": {
    "slideshow": {
     "slide_type": "subslide"
    }
   },
   "source": [
    "* Composition of the high energy CR spectrum involves only two\n",
    "archetypes: light nuclei (protons)\n",
    "and heavy nuclei (iron).\n",
    "* The plots above show Auger / HiRes measurements near GZK\n",
    "cutoff, all favoring at least a\n",
    "mixed composition tending toward\n",
    "heavy at the higher energies. "
   ]
  },
  {
   "cell_type": "markdown",
   "metadata": {},
   "source": [
    "### Sources of Extra Galactic Cosmic Rays\n",
    "\n",
    "As we shaw, CR in supernova remmants or blast waves can only accelerate CR **up to 100 Z TeV**. In order to explain CR beyond this energy, one has to invoke other processes such as Non-Linear Diffusion Acceleration, or extremely high magnetic fields (as suggested in Hillas plot).\n",
    "\n",
    "Binary systems in which a compact object (black hole, neutrino star, pulsar) is permanentely dragging material for an accompaying object (normal star or galaxy) and whirled into an accreation disk can generate enourmouse plasma motions with very strong electromagnetic fields. "
   ]
  },
  {
   "cell_type": "markdown",
   "metadata": {
    "slideshow": {
     "slide_type": "slide"
    }
   },
   "source": [
    "<center>\n",
    "<img src=\"http://2.bp.blogspot.com/_viputHRpZ2A/TB9vhOAIFJI/AAAAAAAADnk/TiLb5xiigM0/s1600/REFLECTION_4_B.jpg\" width=\"60%\"></center>\n",
    "<center>\n",
    "<small>Artistic representation of 4U 0614+091, a X-ray binary. Credit: ESA</small></center>"
   ]
  },
  {
   "cell_type": "markdown",
   "metadata": {
    "slideshow": {
     "slide_type": "subslide"
    }
   },
   "source": [
    "### UHECR sources: The Disk Dynamo\n",
    "\n",
    "Black holes or neutrino stars will have matter acretting around them. Due to the gravitational pull matter will be ripped of in molecules, atoms, and ultimately elementary charge particles. The energy gain of infalling potrons will correspond to the variation in the gravitational potential. If we equal the variation of gravitational potential to the kinetic energy of the accretting matter we have in the classical approach:\n",
    "\n",
    "$$\\frac{1}{2}m_p v^2 = \\Delta E = -\\int^{R}_\\infty G\\frac{m_p M}{r^2} = G\\frac{m_p M}{R}  \\rightarrow v =\\sqrt{\\frac{2 GM}{R}}$$\n",
    "\n",
    "where $M$, $R$, are the mass and radius of the central compact object. \n",
    "\n",
    "* For a neutron star ($M\\approx 2\\times10^{30}$ kg, $R= 10$ km): $\\frac{\\Delta E}{m_p} \\sim 1.32\\times 10^{20} {\\rm\\; erg/g}$ \n",
    "\n",
    "* For a black hole ($M\\approx 10^8 M_\\odot$, $R = R_S = 2\\frac{GM}{c^2}$): $\\frac{\\Delta E}{m_p} \\sim 5 \\times 10^{20} {\\rm\\; erg/g}$ \n",
    "\n",
    "The variable magnetic field of the neutron stars or black holes are perpendicular to the direction of the accreation disk generating a Lorentz force:\n",
    "\n",
    "$$\\vec{F} = e (\\vec{v} \\times \\vec{B}) = e\\vec{E}$$\n",
    "\n",
    "So the energy obtained is \n",
    "\n",
    "$$E=\\int \\vec{F}d\\vec{s} = e v B\\Delta s$$\n",
    "\n",
    "\n",
    "where $\\Delta s$ is the distance over which the force acts. Under plausible assumptions ($v \\sim c$, $B= 10^6$ T, $\\Delta s = 10^5$ m) energies of $3\\times 10^{19}$ eV are possible. "
   ]
  },
  {
   "cell_type": "markdown",
   "metadata": {
    "slideshow": {
     "slide_type": "subslide"
    }
   },
   "source": [
    "### Sources of Extra Galactic Cosmic Rays\n",
    "\n",
    "The two main candidates for ExtraGalactic Cosmic Rays are:\n",
    "\n",
    "* **Active Galactic Nuclei (AGN)**\n",
    "* **Gamma Ray Bursts**"
   ]
  },
  {
   "cell_type": "markdown",
   "metadata": {
    "slideshow": {
     "slide_type": "subslide"
    }
   },
   "source": [
    "### Active Galactic Nuclei (AGNs)\n",
    "\n",
    "* Discovered in 1932 by K. Jansky looking for noise in transatlantic radio transmission for the Bell Telephone Labs. He found a persistent noise in the radio from the centre of the Galaxy too loud to be due to thermal black body radiation.\n",
    "\n",
    "* 1953 Ginzburg & Shklovski suggested it was due to synchrotron radiation from highly relativistic electrons, confirmed with discovery of predicted polarization in M87 light.\n",
    "\n",
    "* Sandange labeled 3C48 a quasar or quasi-stellar object (it appeared pointlike).\n",
    "\n",
    "* In 1962 3C273 radio source position was found with precision of 1 arcsec, which allowed to find the optical counterpart at z = 0.158 (not 1 star but a galaxy).\n",
    "\n",
    "* In 1963 Hoyle and Fowler speculated that the tremendous emitted energy is due to the gravitational collapse of a very massive object."
   ]
  },
  {
   "cell_type": "markdown",
   "metadata": {},
   "source": [
    "### AGN Classification \n",
    "\n",
    "* There is two broad classes: **Radio quiet** (90%) and **Radio Loud** (10%) depending on the pressence of jets or not.\n",
    "* The unified model of ANGs suggests that different AGNs are infact the same object seen from different angles."
   ]
  },
  {
   "cell_type": "markdown",
   "metadata": {
    "slideshow": {
     "slide_type": "subslide"
    }
   },
   "source": [
    "<center>\n",
    "<img src=\"http://www.smallerquestions.org/storage/agn4_prouza.png?__SQUARESPACE_CACHEVERSION=1336315077426\">\n",
    "</center>"
   ]
  },
  {
   "cell_type": "markdown",
   "metadata": {
    "slideshow": {
     "slide_type": "subslide"
    }
   },
   "source": [
    "### Gamma-Ray Burts\n",
    "\n",
    "* GRBs are short bursts lasting a few seconds of $\\gamma$-ray photons from 0.1 - 1 MeV. \n",
    "* They were discovered in the 60s by the U.S. Vela satellites, which were built to detect gamma radiation pulses emitted by nuclear weapons tested in space as the US suspected the URSS might carry on secret nuclear tests depiste the [Nuclear Test Ban Treaty](http://en.wikipedia.org/wiki/Nuclear_Test_Ban_Treaty).\n",
    "* They have been hypothesed (given their occurence) to have caused mass extintions events (thousand times since life begun), in particular they are associated with the  [Ordovician–Silurian extinction](http://en.wikipedia.org/wiki/Ordovician%E2%80%93Silurian_extinction_event). \n",
    "\n",
    "* There is some observational evidence suggesting that progenitor of a GRB are stars undergoing a catastrophic energy release by the end of their lifes $\\rightarrow$ Hypernovas\n"
   ]
  },
  {
   "cell_type": "markdown",
   "metadata": {
    "slideshow": {
     "slide_type": "subslide"
    }
   },
   "source": [
    "### Sources of UHECR\n",
    "\n",
    "The accepted phenomenological picuted of GRBs is of a expanding relativistic wind *fireball* dissipating kinetic energy. The observed *afterglow* on some GRBs result from the collision of the expanding fireball and the surroundings.\n",
    "\n",
    "In the fireball, the observed radition is produced by synchrotron emission of shock accelerated electrons, similar to SNRs. Hence, it is likely that protons will be also shock accelerated.\n",
    "\n",
    "The two conditition for GRBs sources of UHECR are:\n",
    "\n",
    "1. The proton acceleration time must be smaller that the wind expansion time (burst duration).\n",
    "\n",
    "2. The proton synchrotron loss time must exceed the acceleration time.\n",
    "\n",
    "These two conditions lead to a constrain in the Lorentz boost factor for GRBs:\n",
    "\n",
    "$$\\gamma \\geq 130\\left(\\frac{E}{10^{20}{\\rm\\; eV}}\\right)^{3/4}\\left(\\frac{0.01{\\rm\\; s}}{\\Delta t}\\right)^{1/4}$$\n",
    "\n",
    "which matches what we see from GRBs. However IceCube has [not seen any neutrino associated with GRBs](http://arxiv.org/abs/1204.4219) which puts in tension the idea that GRBs can be the only sources of UHECR."
   ]
  },
  {
   "cell_type": "markdown",
   "metadata": {
    "slideshow": {
     "slide_type": "slide"
    }
   },
   "source": [
    "### What else?\n",
    "\n",
    "We did not cover:\n",
    "\n",
    "* Solar modulation of Cosmic Rays and the effect of Earth magnetic fields.\n",
    "* Cosmic Ray anisotropy in the low and high energies (Compton-Getting effect, etc.)\n",
    "* The PAMELA and AMS-2 disagreement in the proton and He spectrum.\n",
    "\n",
    "These could be topics for a research work.\n",
    "\n",
    "And a paper that contradicts what I explained: [Beyond the myth of the supernova-remnant origin of cosmic rays](http://www.nature.com/nature/journal/v460/n7256/full/nature08127.html)\n"
   ]
  },
  {
   "cell_type": "markdown",
   "metadata": {},
   "source": [
    "### References\n",
    "General overview:\n",
    "\n",
    "* 2017 Revision on Cosmic Ray from [PDG](http://pdg.lbl.gov/2017/reviews/rpp2017-rev-cosmic-rays.pdf)\n",
    "\n",
    "Diffusion and Leaky box (Not too many references here):\n",
    "* *Lecture Notes on High Energy Cosmic Rays.*  M. Kachelries [arXiv:0801.4376](https://arxiv.org/abs/0801.4376)\n",
    "\n",
    "On Fermi acceleration:\n",
    "\n",
    "* *High Energy Astrophysics Vol 2. Chapter 21* Malcom S. Longair\n",
    "* *Astroparticle Physics.* Claus Grupen\n",
    "\n",
    "Shockwaves in SNR:\n",
    "* *Dynamical Evolution of Supernova Remmants* Susanne Hofner\n",
    "\n",
    "CR spectrum from the knee to the cutoff:\n",
    "* *Cosmic rays from the ankle to the cut-off* Karl-Heinz Kampert, Peter Tinyakov. [arXiv:1405.0575](https://arxiv.org/abs/1405.0575)\n"
   ]
  },
  {
   "cell_type": "code",
   "execution_count": null,
   "metadata": {
    "collapsed": true
   },
   "outputs": [],
   "source": []
  }
 ],
 "metadata": {
  "hide_input": false,
  "kernelspec": {
   "display_name": "Python 2",
   "language": "python",
   "name": "python2"
  },
  "language_info": {
   "codemirror_mode": {
    "name": "ipython",
    "version": 2
   },
   "file_extension": ".py",
   "mimetype": "text/x-python",
   "name": "python",
   "nbconvert_exporter": "python",
   "pygments_lexer": "ipython2",
   "version": "2.7.9"
  },
  "latex_envs": {
   "bibliofile": "biblio.bib",
   "cite_by": "apalike",
   "current_citInitial": 1,
   "eqLabelWithNumbers": true,
   "eqNumInitial": 0
  }
 },
 "nbformat": 4,
 "nbformat_minor": 1
}
